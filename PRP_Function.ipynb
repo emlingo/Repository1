{
  "nbformat": 4,
  "nbformat_minor": 0,
  "metadata": {
    "colab": {
      "name": "PRP_Function.ipynb",
      "provenance": [],
      "collapsed_sections": [],
      "authorship_tag": "ABX9TyOTzKiC/2RwxbnMUbloLA1o",
      "include_colab_link": true
    },
    "kernelspec": {
      "name": "python3",
      "display_name": "Python 3"
    },
    "language_info": {
      "name": "python"
    }
  },
  "cells": [
    {
      "cell_type": "markdown",
      "metadata": {
        "id": "view-in-github",
        "colab_type": "text"
      },
      "source": [
        "<a href=\"https://colab.research.google.com/github/emlingo/Repository1/blob/master/PRP_Function.ipynb\" target=\"_parent\"><img src=\"https://colab.research.google.com/assets/colab-badge.svg\" alt=\"Open In Colab\"/></a>"
      ]
    },
    {
      "cell_type": "code",
      "metadata": {
        "id": "JyvubJh39hTn"
      },
      "source": [
        "# import packages and libraries\n",
        "\n",
        "import numpy as np\n",
        "from sklearn import linear_model\n"
      ],
      "execution_count": 56,
      "outputs": []
    },
    {
      "cell_type": "code",
      "metadata": {
        "id": "QCB5vpwCNZDo"
      },
      "source": [
        "def PRP(A,b,p):\n",
        "  m,n = np.shape(A)\n",
        "\n",
        "  b_av = b/p\n",
        "  b_split = np.hstack([b_av]*p)\n",
        "\n",
        "  X_hat = np.zeros((n,1))\n",
        "  omega = np.ones((p,1))/p\n",
        "  return \n"
      ],
      "execution_count": 62,
      "outputs": []
    },
    {
      "cell_type": "code",
      "metadata": {
        "id": "KoNv8hnk93R6"
      },
      "source": [
        "# generate synthetic (sparse) data\n",
        "\n",
        "n=500\n",
        "d =1000\n",
        "k=100\n",
        "stdev=1\n",
        "\n",
        "A = np.random.normal(0,1,[n,d])       # matrix of features\n",
        "\n",
        "eps = np.random.normal(0,stdev,[n,1]) # noise\n",
        "\n",
        "x = np.zeros([d,1])                   # coefficients vector\n",
        "\n",
        "for i in range(k):                    # set nonzero values of w\n",
        "  x[i]=(i+1)/k\n",
        "\n",
        "b = np.dot(A,x)+eps                   # vector of labels\n",
        "\n"
      ],
      "execution_count": 58,
      "outputs": []
    },
    {
      "cell_type": "code",
      "metadata": {
        "colab": {
          "base_uri": "https://localhost:8080/"
        },
        "id": "nhZMlMn-BqES",
        "outputId": "0a553cf3-1a00-4846-8664-3a1cef5d55a4"
      },
      "source": [
        "# check sparsity of system\n",
        "\n",
        "print('Nonzero entries in A: {} of {}'.format(np.count_nonzero(A),n*d))\n",
        "print('Nonzero entries in x: {} of {}'.format(np.count_nonzero(x),d))\n",
        "print('Nonzero entries in b: {} of {}'.format(np.count_nonzero(b),n))"
      ],
      "execution_count": 59,
      "outputs": [
        {
          "output_type": "stream",
          "text": [
            "Nonzero entries in A: 500000 of 500000\n",
            "Nonzero entries in x: 100 of 1000\n",
            "Nonzero entries in b: 500 of 500\n"
          ],
          "name": "stdout"
        }
      ]
    },
    {
      "cell_type": "code",
      "metadata": {
        "id": "qzllVtmuBtQs"
      },
      "source": [
        "p = 10\n",
        "# b_new = np.empty((n,p))\n",
        "b_new = PRP(A,b,p)\n",
        "\n"
      ],
      "execution_count": null,
      "outputs": []
    },
    {
      "cell_type": "code",
      "metadata": {
        "id": "vbMaSkrNSo-u"
      },
      "source": [
        ""
      ],
      "execution_count": null,
      "outputs": []
    }
  ]
}