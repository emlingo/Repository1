{
  "nbformat": 4,
  "nbformat_minor": 0,
  "metadata": {
    "colab": {
      "name": "PRP_Function.ipynb",
      "provenance": [],
      "collapsed_sections": [],
      "authorship_tag": "ABX9TyMTCblfVqSKgx3OSqE9LIkR",
      "include_colab_link": true
    },
    "kernelspec": {
      "name": "python3",
      "display_name": "Python 3"
    },
    "language_info": {
      "name": "python"
    }
  },
  "cells": [
    {
      "cell_type": "markdown",
      "metadata": {
        "id": "view-in-github",
        "colab_type": "text"
      },
      "source": [
        "<a href=\"https://colab.research.google.com/github/emlingo/Repository1/blob/master/PRP_Function.ipynb\" target=\"_parent\"><img src=\"https://colab.research.google.com/assets/colab-badge.svg\" alt=\"Open In Colab\"/></a>"
      ]
    },
    {
      "cell_type": "code",
      "metadata": {
        "id": "JyvubJh39hTn"
      },
      "source": [
        "# import packages and libraries\n",
        "\n",
        "import numpy as np\n",
        "from sklearn import linear_model\n",
        "from numpy import linalg as LA\n"
      ],
      "execution_count": null,
      "outputs": []
    },
    {
      "cell_type": "code",
      "metadata": {
        "id": "QCB5vpwCNZDo"
      },
      "source": [
        "def PRP(A,b,p, maxiter, epsilon):\n",
        "  m,n = np.shape(A)\n",
        "\n",
        "  b_av = b/p\n",
        "  R_hat = np.hstack([b_av]*p)\n",
        "\n",
        "  X_hat = np.zeros((n,1))\n",
        "  omega = np.ones((p,1))/p\n",
        "\n",
        "  tol = 0\n",
        "  iter = 0\n",
        "\n",
        "  while tol == 0:\n",
        "\n",
        "    R = omega[i]*R_hat.sum(axis=0)\n",
        "\n",
        "    # done in parallel (eventually). Will start with a normal for loop.\n",
        "    a = 0\n",
        "    delta_x = np.zeros((n,p))\n",
        "\n",
        "    for i in range(p):\n",
        "      \n",
        "      # how will we determine the regularization param?\n",
        "      # I have hard coded it to be 1e-3 for now.\n",
        "      model = linear_model.lasso(alpha = 1e-3)\n",
        "      sol = model.fit(A[:,a:a+n/p], R[:,i])\n",
        "\n",
        "      delta_x[:,i] = sol\n",
        "\n",
        "      # recalculate residual\n",
        "      R_hat[:,i] = R[:,i] - A[:,a:a+n/p]*sol\n",
        "\n",
        "      a = a + n/p\n",
        "\n",
        "    # end of (parallel) for\n",
        "    \n",
        "    # update solution for X_hat\n",
        "    delta_x_tall = delta_x.flatten('F')\n",
        "    X_hat = X_hat + delta_x_tall\n",
        "\n",
        "\n",
        "    # calculate difference from previous iteration\n",
        "    diff = LA.norm(delta_x_tall, 2)\n",
        "    \n",
        "    iter += 1\n",
        "\n",
        "    # determines whether stop criteria is met  \n",
        "    if diff < epsilon:\n",
        "      tol = 1\n",
        "\n",
        "    if iter > maxiter:\n",
        "      tol = 1\n",
        "\n",
        "  # end outer loop\n",
        "\n",
        "  return X_hat, R_hat.sum(axis=0)\n"
      ],
      "execution_count": null,
      "outputs": []
    },
    {
      "cell_type": "code",
      "metadata": {
        "id": "KoNv8hnk93R6"
      },
      "source": [
        "# generate synthetic (sparse) data\n",
        "\n",
        "n=500\n",
        "d =1000\n",
        "k=100\n",
        "stdev=1\n",
        "\n",
        "A = np.random.normal(0,1,[n,d])       # matrix of features\n",
        "\n",
        "eps = np.random.normal(0,stdev,[n,1]) # noise\n",
        "\n",
        "x = np.zeros([d,1])                   # coefficients vector\n",
        "\n",
        "for i in range(k):                    # set nonzero values of w\n",
        "  x[i]=(i+1)/k\n",
        "\n",
        "b = np.dot(A,x)+eps                   # vector of labels\n",
        "\n"
      ],
      "execution_count": null,
      "outputs": []
    },
    {
      "cell_type": "code",
      "metadata": {
        "colab": {
          "base_uri": "https://localhost:8080/"
        },
        "id": "nhZMlMn-BqES",
        "outputId": "d306ee6f-0c08-4152-d6f5-918ddcf21ad5"
      },
      "source": [
        "# check sparsity of system\n",
        "\n",
        "print('Nonzero entries in A: {} of {}'.format(np.count_nonzero(A),n*d))\n",
        "print('Nonzero entries in x: {} of {}'.format(np.count_nonzero(x),d))\n",
        "print('Nonzero entries in b: {} of {}'.format(np.count_nonzero(b),n))"
      ],
      "execution_count": null,
      "outputs": [
        {
          "output_type": "stream",
          "text": [
            "Nonzero entries in A: 500000 of 500000\n",
            "Nonzero entries in x: 100 of 1000\n",
            "Nonzero entries in b: 500 of 500\n"
          ],
          "name": "stdout"
        }
      ]
    },
    {
      "cell_type": "code",
      "metadata": {
        "id": "qzllVtmuBtQs"
      },
      "source": [
        "\n",
        "\n"
      ],
      "execution_count": null,
      "outputs": []
    },
    {
      "cell_type": "code",
      "metadata": {
        "id": "vbMaSkrNSo-u",
        "colab": {
          "base_uri": "https://localhost:8080/"
        },
        "outputId": "8c68627b-b9a7-4476-842b-2838f9ec8ce3"
      },
      "source": [
        "m = np.matrix([[1,2], [3,4]])\n",
        "print(m[:,0])\n",
        "\n",
        "m1 = m.flatten()\n",
        "print(m1)\n",
        "\n",
        "m2 = m.flatten('F')\n",
        "print(m2)"
      ],
      "execution_count": null,
      "outputs": [
        {
          "output_type": "stream",
          "text": [
            "[[1]\n",
            " [3]]\n",
            "[[1 2 3 4]]\n",
            "[[1 3 2 4]]\n"
          ],
          "name": "stdout"
        }
      ]
    },
    {
      "cell_type": "code",
      "metadata": {
        "id": "fn_Bti8mF2jl"
      },
      "source": [
        ""
      ],
      "execution_count": null,
      "outputs": []
    }
  ]
}